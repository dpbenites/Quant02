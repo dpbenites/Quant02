{
 "cells": [
  {
   "cell_type": "markdown",
   "metadata": {},
   "source": [
    "## 2. Algoritmos\n",
    "\n",
    "`Definição`: Algoritmos são um conjunto de instruções que realizam determinada tarefa.\n",
    "\n",
    "Para construir algoritmos, vamos começar introduzindo a noção de realizar essas instruções através de `PseudoCodigos`\n"
   ]
  },
  {
   "cell_type": "markdown",
   "metadata": {},
   "source": [
    "## 2.1 PseudoCódigos \n",
    "\n",
    "O que são?\n",
    "\n",
    "- É similar a um código\n",
    "- Mas não são códigos de verdade (pseudo)\n",
    "\n",
    "Uma forma esquemática de representar um algoritmo e seu respectivo código\n",
    "\n",
    "### Exemplo: Qual é o maior número?\n",
    "Vamos supor que desejamos fazer um algoritmo para descobrir, qual entre dois numeros é o maior\n",
    "\n",
    "- PseudoCode:\n",
    "\n",
    "\n",
    "Passo 1: Start\n",
    "\n",
    "Passo 2: pegue os valores `a`, `b` \n",
    "\n",
    "Passo 3: checar `SE` (a>b) -> printar  `caso`  `a` for maior\n",
    "\n",
    "Passo 4: `SENÃO`  b é o maior\n",
    "\n",
    "Passo 5: Stop\n",
    "\n",
    "\n",
    "\n",
    "![Algoritmo Besta para verificar qual é o maior numero](Algo1.jpeg)\n"
   ]
  },
  {
   "cell_type": "code",
   "execution_count": 11,
   "metadata": {},
   "outputs": [
    {
     "name": "stdout",
     "output_type": "stream",
     "text": [
      "2 é maior que 1\n"
     ]
    }
   ],
   "source": [
    "# implementacao\n",
    "\n",
    "def Greatest(a:float, b:float) -> str:\n",
    "\n",
    "    if a> b:\n",
    "        print(f'{a} é maior que {b}')\n",
    "    else:\n",
    "        print(f'{b} é maior que {a}')\n",
    "        \n",
    "Greatest(2,1)\n"
   ]
  },
  {
   "cell_type": "markdown",
   "metadata": {},
   "source": [
    "### Fatorial de um dado número n: \n",
    "\n",
    "<img src=\"Factorial.jpeg\" alt=\"Descrição da imagem\" width=\"500\" height=\"500\">\n",
    "\n",
    "### Passos:\n",
    "\n",
    "Passo 1: Início\n",
    "\n",
    "Passo 2: Obter o valor de `n`\n",
    "\n",
    "Passo 3: Definir os valores iniciais `i=1`, `fatorial=1`\n",
    "\n",
    "Passo 4: Verificar o valor de `i`, se `(i<=n)` vá para o Passo 5, senão vá para o Passo 8\n",
    "\n",
    "Passo 5: Calcular `fatorial=fatorial*i`\n",
    "\n",
    "Passo 6: Incrementar o valor de i em 1\n",
    "\n",
    "Passo 7: Ir para o Passo 4\n",
    "\n",
    "Passo 8: Imprimir o valor do fatorial\n",
    "\n",
    "Passo 9: Fim\n"
   ]
  },
  {
   "cell_type": "markdown",
   "metadata": {},
   "source": [
    "## 2.2 Algoritmo de Busca binary Search \n",
    "\n",
    "<img src=\"Algo_Book.jpeg\" alt=\"Descrição da imagem\" width=\"300\" height=\"400\">\n",
    "\n",
    "fonte: BHARGAVA, Aditya Y. Entendendo Algoritmos: Um guia ilustrado para programadores e outros curiosos. Novatec Editora, 2018.\n",
    "\n"
   ]
  },
  {
   "cell_type": "markdown",
   "metadata": {},
   "source": [
    "### Binary Search\n",
    "\n",
    "#### Situacão\n",
    "\n",
    "Vamos supor que você está procurando em uma agenda telefonica o contato de algum médico. Você sabe o nome desse Médico, sabe que o nome dele é `Kleber`. Há muitas formas de procurar o nome de Kleber.\n",
    "\n",
    "![GIF de exemplo](Livro.gif)\n",
    "\n",
    "\n",
    "- 1. Você pode percorrer a lista do início e folhando até chegar de A, B , C ... K e encontrar Kleber\n",
    "\n",
    "- 2. Você pode ser um pouco mais esperto e começar pela metade, pois sabe que o K fica mais perto dali.\n",
    "\n",
    "#### O algoritmo de `Pesquisa Binária` nos ajuda a resolver esse problema. \n",
    "\n",
    "- A lista de entrada deve estar ordenada\n",
    "\n",
    "- Se o elemento está na lista ele retorna sua localização. Em caso contrário ele deve retornar `None`\n"
   ]
  },
  {
   "cell_type": "markdown",
   "metadata": {},
   "source": [
    "### Começando a pensar no problema\n",
    "\n",
    "O jeito tradicional de abordar Binary search é usar um exemplo de uma lista ordenada de números\n",
    "\n",
    "Imagine que você tenha uma lista de números de 1 até 100. Seu amigo pensa em algum número. Ele pode falar se o número escolhido é maior ou menor que o alvo.\n",
    "\n",
    "![Guess the number](Picture1.jpeg)\n",
    "\n",
    "Assim como no catálogo, a pesquisa simples ou algoritmo ingênuo, parece muito massante."
   ]
  },
  {
   "cell_type": "markdown",
   "metadata": {},
   "source": [
    "## Outra técnica, comece pela metade:\n",
    "\n",
    "Comece com 50, a metade de 1 até 100\n",
    "\n",
    "![image.png](Picture2.jpeg)\n",
    "\n",
    "Agora sabes que 50 é baixo. Você eliminou 50 possibilidades.\n",
    "\n",
    "O que sobra? 51 até 100 -> Proximo chute: 75\n",
    "\n",
    "![image.png](pic3.jpeg)\n",
    "\n",
    "Agora está alto. Entao sabe que está entre 51 e 75. \n",
    "\n",
    "Próximo chute: 63\n",
    "\n",
    "\n",
    "![image.png](pic4.jpeg)\n",
    "\n",
    "## Veja aqui uma animação do Algoritmo\n",
    "\n",
    "![GIF de exemplo](BinarySearch.gif)\n",
    "\n"
   ]
  },
  {
   "cell_type": "markdown",
   "metadata": {},
   "source": [
    "### Fluxograma ajudando a codificar \n",
    "\n",
    "<img src=\"Flow3.jpeg\" alt=\"Descrição da imagem\" width=\"700\" height=\"800\">"
   ]
  },
  {
   "cell_type": "code",
   "execution_count": 2,
   "metadata": {},
   "outputs": [
    {
     "data": {
      "text/plain": [
       "3"
      ]
     },
     "execution_count": 2,
     "metadata": {},
     "output_type": "execute_result"
    }
   ],
   "source": [
    "## codee\n",
    "\n",
    "def BinarySearch(List: list , find: int) -> int:\n",
    "\n",
    "    low = 0 \n",
    "    high = len(List) - 1\n",
    "\n",
    "    while low <= high:\n",
    "        mid = (low + high)//2\n",
    "\n",
    "        if find == List[mid]:\n",
    "            return mid\n",
    "        \n",
    "        elif find < List[mid]:\n",
    "            high = mid -1\n",
    "\n",
    "        else:\n",
    "            low = mid + 1\n",
    "\n",
    "    return 'Valor nao encontrado'\n",
    "\n",
    "minha_lista = [1 , 4 , 5 , 6 , 8 ,10]\n",
    "\n",
    "BinarySearch(minha_lista , 6)"
   ]
  },
  {
   "cell_type": "markdown",
   "metadata": {},
   "source": [
    "## Big O\n",
    "\n",
    "A notação Big O é uma notação que nos diz quão rápido é um algoritmo. Ela permite que o número de operações necessárias para um algoritmo seja comparado. \n",
    "Tem uma relação com o tempo, mas aqui o tempo não é absoluto, pois pode variar com o poder computacional e a linguagem de programação devido aos procedimentos de compilação. A notação Big O tem o objetivo de generalizar esse comportamento.\n",
    "\n",
    "## Qual é a notação Big O para o Binary search?\n",
    "\n",
    "É necessário afirmar que para que você deduza a notação big O de um algoritmo você considere sempre o pior caso, se esse algoritmo tiver a possibilidade de por alguma ocasiao terminar antes do número máximo de iterações.\n",
    "\n",
    "<img src=\"Etapas.jpeg\" alt=\"Descrição da imagem\" width=\"750\" height=\"400\">\n",
    "\n",
    "\n",
    "$2^{Operações} = n$\n",
    "\n",
    "$ log_{2}n =  Operações $\n",
    "\n",
    "Logo $O(log n)$ é a notação big O para o algoritmo de busca binária\n",
    "\n",
    "Um parênteses importante: Qual base é correto usar??\n",
    "\n",
    "#### Constantes e base de log`s\n",
    "\n",
    "A notação Big O não se preocupa com quais constantes teria a função que descreve o comportamento do tempo.\n",
    "\n",
    "No caso, $O(2n)$ $O(3n)$ $O(4n)$ as constantes não importam e direcionam todos para um comportamento linear $O(n)$. Então sempre que um algoritmo for linear a forma mais geral de indicar é essa, sem nos preocuparmos com os demais termos.\n",
    "\n",
    "A mesma coisa para algoritmos que levam logaritmos. Se pensarmos que todo algoritmo pode trocar sua base, como por exemplo:\n",
    "\n",
    "Propriedade de mudança de base: \n",
    "\n",
    "$log_{b}a = \\dfrac{log_{c}a}{log_{c}b}$ \n",
    "\n",
    "Portanto se tivermos e quisermos colocar para base $e$\n",
    "\n",
    "$log_{2}n = \\dfrac{log_{e}n}{log_{e}2}  =  \\dfrac{1}{ln(2)} ln(n) = K \\ \\ ln(n)$\n",
    "\n",
    "Ou seja, teremos uma constante $K$ devido a mudança de base. Isto é, quando indicamos $O(logn)$ quer dizer que ele tem um comportamento geral logaritmico não indicando a base exata."
   ]
  },
  {
   "cell_type": "code",
   "execution_count": 1,
   "metadata": {},
   "outputs": [
    {
     "data": {
      "image/png": "[encoded data removed]",
      "text/plain": [
       "<Figure size 800x500 with 1 Axes>"
      ]
     },
     "metadata": {},
     "output_type": "display_data"
    }
   ],
   "source": [
    "import matplotlib.pyplot as plt\n",
    "import numpy as np\n",
    "\n",
    "# Criando dados para log2(n) e n\n",
    "n = np.linspace(1, 100, 1000)\n",
    "log2_n = np.log2(n)\n",
    "linear_n = n\n",
    "\n",
    "# Criando o gráfico\n",
    "plt.figure(figsize=(8, 5))\n",
    "\n",
    "# Plotando log2(n)\n",
    "plt.plot(n, log2_n, label='log2(n)', color='blue')\n",
    "\n",
    "# Plotando n\n",
    "plt.plot(n, linear_n, label='n', color='red')\n",
    "\n",
    "# Configurações do gráfico\n",
    "plt.title('Comparação do crescimento O(logn) e O(n)')\n",
    "plt.xlabel('n')\n",
    "plt.ylabel('Valor')\n",
    "plt.grid(True)\n",
    "plt.legend()\n",
    "\n",
    "plt.show()\n"
   ]
  },
  {
   "cell_type": "markdown",
   "metadata": {},
   "source": [
    "Outros possíveis comportamentos são O($nlog n$) O($n^{2} $) e O($n!$)"
   ]
  },
  {
   "cell_type": "code",
   "execution_count": null,
   "metadata": {},
   "outputs": [
    {
     "data": {
      "image/png": "[encoded data removed]",
      "text/plain": [
       "<Figure size 1000x600 with 1 Axes>"
      ]
     },
     "metadata": {},
     "output_type": "display_data"
    }
   ],
   "source": [
    "import matplotlib.pyplot as plt\n",
    "import numpy as np\n",
    "import math\n",
    "\n",
    "# Criando dados para as funções\n",
    "n = np.linspace(1, 6, 1000)\n",
    "log2_n = np.log2(n)\n",
    "linear_n = n\n",
    "n_log2_n = n * np.log2(n)\n",
    "n_squared = n ** 2\n",
    "\n",
    "# Calculando n!\n",
    "def factorial(n):\n",
    "    return [math.factorial(int(x)) for x in n]\n",
    "\n",
    "n_factorial = factorial(n)\n",
    "\n",
    "# Criando o gráfico\n",
    "plt.figure(figsize=(10, 6))\n",
    "\n",
    "# Plotando as funções\n",
    "plt.plot(n, log2_n, label='log2(n)', color='blue')\n",
    "plt.plot(n, linear_n, label='n', color='red')\n",
    "plt.plot(n, n_log2_n, label='n*log2(n)', color='green')\n",
    "plt.plot(n, n_squared, label='n²', color='purple')\n",
    "#plt.plot(n, n_factorial, label='n!', color='orange',marker = '.')\n",
    "\n",
    "# Configurações do gráfico\n",
    "plt.xlabel('n')\n",
    "plt.ylabel('Valor')\n",
    "plt.title('Big O notation')\n",
    "plt.grid(True)\n",
    "plt.legend()\n",
    "\n",
    "plt.show()\n"
   ]
  },
  {
   "cell_type": "code",
   "execution_count": null,
   "metadata": {},
   "outputs": [],
   "source": [
    "\n",
    "'''\n",
    "quinto valor \n",
    "\n",
    "0,1\n",
    "1\n",
    "2\n",
    "3\n",
    "5\n",
    "8\n",
    "\n",
    "\n",
    "3^4\n",
    "\n",
    "3 . 3 . 3 .3 \n",
    "9. 3 . 3. 3\n",
    "\n",
    "...\n",
    "\n",
    "n-esimo\n",
    "\n",
    "'''"
   ]
  },
  {
   "cell_type": "markdown",
   "metadata": {},
   "source": [
    "### Pergunta:  \n",
    "\n",
    "Se quisermos fazer um algoritmo que dê o n-ésimo número da sequência de Fibonacci, qual seria a complexidade desse algoritmo?\n",
    "\n",
    "Resposta:\n",
    "\n",
    "Depende do jeito que tu implementar o algoritmo\n",
    "\n",
    "Se tu sabes a fórmula de fibonacci\n",
    "\n",
    "##### $F_{n} = \\dfrac{\\phi^{n} - (1-\\phi)^{n}}{\\sqrt(5)}$  \n",
    "\n",
    "O algoritmo vai ter\n",
    "Complexidade de Tempo : $O(1)$ , certo??\n",
    "\n",
    "A resposta é muito mais sútil do que imagina-se, mesmo utilizando uma única formula, o python ainda tem que\n",
    "realizar a operação de exponenciação nesse algoritmo, e quanto maior o expoente, a princípio, mais operações ele deve fazer para chegar \n",
    "no valor correto. \n",
    "\n",
    "A operação de exponenciação utiliza um procedimento chamado `exponencial por quadrados`, em resumo: é uma expansão binária do expoente pela metade dos valores, algo parecido com o nosso binary search só que para operação matemática, isso implica que na verdade esse nosso algoritmo tem complexidade \n",
    "\n",
    "de na ordem \n",
    "\n",
    " #####  $O(logn)$\n",
    "\n",
    " Veja com mais detalhes sobre o método de potenciação por quadrados nesse artigo: \n",
    "\n",
    " https://www.blogcyberini.com/2017/10/potenciacao-por-quadrados.html\n",
    "\n",
    "\n",
    "\n",
    "## Por outro lado...\n",
    "\n",
    "Se tu fizer, por algum acaso, fazendo a iteração com listas, teremos uma complexidade de \n",
    "\n",
    "$O(n)$\n",
    "\n",
    "Vamos comparar o `tempo` que o python demora para executar cada um deles"
   ]
  },
  {
   "cell_type": "code",
   "execution_count": 3,
   "metadata": {},
   "outputs": [
    {
     "name": "stdout",
     "output_type": "stream",
     "text": [
      "12586269025\n",
      "12586269025\n"
     ]
    }
   ],
   "source": [
    "##code\n",
    "\n",
    "def Fibonacci_v1(n: int) -> int:\n",
    "\n",
    "    f0 , f1  = 0 , 1\n",
    "    list_seq = []\n",
    "\n",
    "    list_seq.append(f0)\n",
    "    list_seq.append(f1)\n",
    "\n",
    "    if n == 0:\n",
    "        return 0 \n",
    "\n",
    "    elif n == 1:\n",
    "        return 1 \n",
    "    \n",
    "    else:\n",
    "        for i in range(2, n+1):\n",
    "            fn = list_seq[i-1] + list_seq[i-2]\n",
    "            list_seq.append(fn)\n",
    "        \n",
    "        return list_seq[-1]\n",
    "\n",
    "def Fibonacci_v2(n:int) -> int:\n",
    "\n",
    "    phi = 1.61803398875\n",
    "    root_5 = 5**0.5\n",
    "\n",
    "    fn = ( phi**n - (  1- phi)**n  )/root_5\n",
    "\n",
    "    return int(fn)\n",
    "\n",
    "\n",
    "print( Fibonacci_v1(50))\n",
    "print(Fibonacci_v2(50))\n",
    "\n",
    "    \n",
    "\n"
   ]
  },
  {
   "cell_type": "code",
   "execution_count": 8,
   "metadata": {},
   "outputs": [
    {
     "name": "stdout",
     "output_type": "stream",
     "text": [
      "The slowest run took 4.16 times longer than the fastest. This could mean that an intermediate result is being cached.\n",
      "77.8 µs ± 52.7 µs per loop (mean ± std. dev. of 7 runs, 100 loops each)\n"
     ]
    }
   ],
   "source": [
    "%%timeit -n 100\n",
    "\n",
    "Fibonacci_v1(500)"
   ]
  },
  {
   "cell_type": "code",
   "execution_count": 9,
   "metadata": {},
   "outputs": [
    {
     "name": "stdout",
     "output_type": "stream",
     "text": [
      "437 ns ± 60.3 ns per loop (mean ± std. dev. of 7 runs, 100 loops each)\n"
     ]
    }
   ],
   "source": [
    "%%timeit -n 100\n",
    "Fibonacci_v2(500)"
   ]
  },
  {
   "cell_type": "markdown",
   "metadata": {},
   "source": []
  },
  {
   "cell_type": "markdown",
   "metadata": {},
   "source": [
    "## Problemas\n",
    "\n",
    "#### Ex 2.1 Etapas da pesquisa Binária\n",
    "\n",
    " Suponha que você tenha uma lista com 128 nomes e esteja fazendo uma pesquisa binária. Qual seria o número de etapas máximas que levaria para encontrar o nome desejado?\n",
    "\n",
    "#### Ex 2.2\n",
    "\n",
    " Duplicando o tamanho dessa lista, qual o número de etapas agora?\n",
    "\n",
    "#### Ex 2.3 Cátalogo de nomes com Binary Search\n",
    "\n",
    " (código) Imagine que você tenha um dicionário ordenado como entrada que represente um catálogo com o nome e número de algumas pessoas. Faça uma função que utilize o algoritmo de busca Binary Search para Encontrar esse nome na lista e seu respectivo número.\n",
    "\n",
    " use o dicionário para testar: \n",
    "\n",
    " ```python\n",
    "catalogo = {\n",
    "    'Alice': 123456789,\n",
    "    'Ana': 666777888,\n",
    "    'André': 2100210023,\n",
    "    'Beatriz': 234567890,\n",
    "    'Bianca': 2200220024,\n",
    "    'Bruno': 777888999,\n",
    "    'Catarina': 888999000,\n",
    "    'Carlos': 2300230025,\n",
    "    'Carla': 345678901,\n",
    "    'Daniel': 456789012,\n",
    "    'Diego': 999000111,\n",
    "    'Diana': 2400240026,\n",
    "    'Eduardo': 567890123,\n",
    "    'Elisa': 110011002,\n",
    "    'Fabio': 220022003,\n",
    "    'Fernanda': 678901234,\n",
    "    'Fátima': 2600260028,\n",
    "    'Gabriela': 330033004,\n",
    "    'Gilberto': 2700270029,\n",
    "    'Gustavo': 789012345,\n",
    "    'Heitor': 440044005,\n",
    "    'Helena': 890123456,\n",
    "    'Hugo': 2800280030,\n",
    "    'Igor': 550055006,\n",
    "    'Ingrid': 901234567,\n",
    "    'Isabela': 2900290031,\n",
    "    'Jéssica': 660066007,\n",
    "    'João': 112233445,\n",
    "    'Jonas': 3000300032,\n",
    "    'Julia': 223344556,\n",
    "    'Karen': 3100310033,\n",
    "    'Kleber': 770077008,\n",
    "    'Larissa': 880088009,\n",
    "    'Lucas': 334455667,\n",
    "    'Luis': 3200320034,\n",
    "    'Mariana': 3300330035,\n",
    "    'Maria': 445566778,\n",
    "    'Marcelo': 990099001,\n",
    "    'Mateus': 556677889,\n",
    "    'Nádia': 1000100012,\n",
    "    'Natália': 667788990,\n",
    "    'Nicolas': 3400340036,\n",
    "    'Olívia': 3500350037,\n",
    "    'Otávio': 1110110013,\n",
    "    'Patrícia': 1220120014,\n",
    "    'Paulo': 3600360038,\n",
    "    'Pedro': 778899001,\n",
    "    'Rafael': 1330130015,\n",
    "    'Raquel': 889900112,\n",
    "    'Renata': 3700370039,\n",
    "    'Roberto': 990011223,\n",
    "    'Samuel': 3800380040,\n",
    "    'Sara': 1440140016,\n",
    "    'Sofia': 111222333,\n",
    "    'Talita': 3900390041,\n",
    "    'Thiago': 222333444,\n",
    "    'Túlio': 1550150017,\n",
    "    'Ulisses': 4000400042,\n",
    "    'Valentina': 1660160018,\n",
    "    'Vanessa': 333444555,\n",
    "    'Vivian': 4100410043,\n",
    "    'Walter': 4200420044,\n",
    "    'William': 1770170019,\n",
    "    'Xavier': 1880180020,\n",
    "    'Xuxa': 4300430045,\n",
    "    'Yasmin': 1990190021,\n",
    "    'Ygor': 4400440046,\n",
    "    'Yuri': 444555666,\n",
    "    'Zeca': 555666777,\n",
    "    'Zuleide': 2000200022,\n",
    "    'Zé': 4500450047\n",
    "}\n",
    "\n",
    " ```\n",
    "#### Ex 2.4 Fatorial de um número n\n",
    "\n",
    "Com base no fluxograma sobre fatorial, faça um algoritmo que retorne o fatorial de algum número n.\n",
    "\n",
    "#### Ex 2.5 Pseudocódigo de tarefa\n",
    "\n",
    "Faça um pseudocódigo, podendo ser escrito por passo ou algum fluxograma de uma tarefa diária/ rotineira\n",
    "\n",
    "#### Ex 2.6 (desafiadora) Primos\n",
    "\n",
    "Dado um inteiro n, retorne o número de números primos menores que n\n",
    "\n",
    "#### Ex 2.7 Potência de 2\n",
    "\n",
    "Dado um número inteiro `n` retorne `True` se o número for potência de 2, Caso contrário retorne `False`.\n",
    "\n",
    "Um inteiro  `n` é potência de 2 se existir um `x` inteiro tal que $n = 2^{x}$ \n",
    "\n",
    "Exemplo: \n",
    "```\n",
    "Input: n = 16\n",
    "Output: true\n",
    "Explanation: 2^4 = 16\n",
    "```\n",
    "\n",
    " "
   ]
  },
  {
   "cell_type": "markdown",
   "metadata": {},
   "source": []
  },
  {
   "cell_type": "code",
   "execution_count": 10,
   "metadata": {},
   "outputs": [
    {
     "name": "stdout",
     "output_type": "stream",
     "text": [
      "4\n",
      "3\n",
      "2\n",
      "1\n"
     ]
    }
   ],
   "source": [
    "lista = (1, 2, 3, 4)\n",
    "x = 1\n",
    "\n",
    "while x <= len(lista):\n",
    "    print(lista[len(lista)-x])\n",
    "    x += 1"
   ]
  },
  {
   "cell_type": "code",
   "execution_count": 34,
   "metadata": {},
   "outputs": [
    {
     "data": {
      "image/png": "[encoded data removed]",
      "text/plain": [
       "<Figure size 640x480 with 1 Axes>"
      ]
     },
     "metadata": {},
     "output_type": "display_data"
    }
   ],
   "source": [
    "import numpy as np\n",
    "\n",
    "\n",
    "t = np.arange(0, 50 , 0.1)  # intervalo de tempo espaçado em 0.1\n",
    "\n",
    "Capital_inflacao = 1000* (1 + 0.2)**t\n",
    "\n",
    "Capital_selic = 1000 *(1+ 0.10)**t\n",
    "\n",
    "# Plotando as funções\n",
    "plt.plot(t , Capital_inflacao , label = 'crescimento da inflação acumulada sobre capital com média 7 $ \\% $ a.a', color = 'red' )\n",
    "plt.plot(t , Capital_selic , label = 'crescimento do capital com selic 10 $ \\%$ a.a', color = 'blue' )\n",
    "\n",
    "plt.plot(t , Capital_selic - Capital_inflacao , label = 'Diferença', color = 'green' )\n",
    "# Configurações do gráfico\n",
    "plt.xlabel('tempo (anos)')\n",
    "plt.ylabel('Crescimento do capital (R$)')\n",
    "plt.grid(True)\n",
    "plt.legend()\n",
    "\n",
    "plt.show()\n",
    "\n",
    "\n",
    "\n"
   ]
  },
  {
   "cell_type": "code",
   "execution_count": null,
   "metadata": {},
   "outputs": [],
   "source": []
  }
 ],
 "metadata": {
  "kernelspec": {
   "display_name": "base",
   "language": "python",
   "name": "python3"
  },
  "language_info": {
   "codemirror_mode": {
    "name": "ipython",
    "version": 3
   },
   "file_extension": ".py",
   "mimetype": "text/x-python",
   "name": "python",
   "nbconvert_exporter": "python",
   "pygments_lexer": "ipython3",
   "version": "3.11.5"
  }
 },
 "nbformat": 4,
 "nbformat_minor": 2
}
